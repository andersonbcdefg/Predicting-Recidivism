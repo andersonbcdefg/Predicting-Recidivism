{
 "cells": [
  {
   "cell_type": "markdown",
   "metadata": {},
   "source": [
    "# CS 221 Final Project: Predicting Recidivism\n",
    "By Benjamin Anderson and Gaeun Kim"
   ]
  },
  {
   "cell_type": "code",
   "execution_count": 1,
   "metadata": {},
   "outputs": [
    {
     "data": {
      "text/plain": [
       "'\\n    1. Certifiably Optimal Rule Lists\\n    2. Bayesian Network Learning: https://pomegranate.readthedocs.io/en/latest/BayesianNetwork.html\\n    3. Logistic Regression\\n    4. Testing models with FairML\\n'"
      ]
     },
     "execution_count": 1,
     "metadata": {},
     "output_type": "execute_result"
    }
   ],
   "source": [
    "# In this notebook:\n",
    "\"\"\"\n",
    "    1. Certifiably Optimal Rule Lists\n",
    "    2. Bayesian Network Learning: https://pomegranate.readthedocs.io/en/latest/BayesianNetwork.html\n",
    "    3. Logistic Regression\n",
    "    4. Testing models with FairML\n",
    "\"\"\""
   ]
  },
  {
   "cell_type": "code",
   "execution_count": 2,
   "metadata": {},
   "outputs": [],
   "source": [
    "# Import required packages\n",
    "import pandas as pd\n",
    "import numpy as np\n",
    "from corels import CorelsClassifier\n",
    "from pomegranate import BayesianNetwork\n",
    "import seaborn, time\n",
    "from sklearn.linear_model import LogisticRegression\n",
    "from fairml import audit_model"
   ]
  },
  {
   "cell_type": "code",
   "execution_count": 5,
   "metadata": {
    "scrolled": true
   },
   "outputs": [],
   "source": [
    "# Load and shape training data\n",
    "df_train = pd.read_csv(\"./RECIDIVISM_TRAIN.csv\")\n",
    "no_race_cols = ['No_Priors', 'One_Prior', 'Priors_Below_Five', 'Priors_Below_Ten', 'Priors_Above_Twenty',\n",
    "               'Priors_Above_Thirty', 'Age_Above_FourtyFive', 'Age_Below_TwentyFive', 'Misdemeanor', 'Female']\n",
    "XTrain_noRace = df_train.loc[:,no_race_cols]\n",
    "race_cols = ['No_Priors', 'One_Prior', 'Priors_Below_Five', 'Priors_Below_Ten', 'Priors_Above_Twenty',\n",
    "               'Priors_Above_Thirty', 'Age_Above_FourtyFive', 'Age_Below_TwentyFive', 'Misdemeanor',\n",
    "            'African_American', 'Asian', 'Hispanic', 'Native_American', 'Other']\n",
    "XTrain_Race = df_train.loc[:, race_cols]"
   ]
  },
  {
   "cell_type": "code",
   "execution_count": null,
   "metadata": {},
   "outputs": [],
   "source": [
    "# Load and shape validation data"
   ]
  },
  {
   "cell_type": "code",
   "execution_count": null,
   "metadata": {},
   "outputs": [],
   "source": [
    "# Load and shape testing data"
   ]
  },
  {
   "cell_type": "code",
   "execution_count": null,
   "metadata": {},
   "outputs": [],
   "source": [
    "# CORELS\n",
    "corels_no_race = CorelsClassifier(verbosity=[\"rulelist\"])\n",
    "corels_with_race = CorelsClassifier(verbosity=[\"rulelist\"])"
   ]
  },
  {
   "cell_type": "code",
   "execution_count": null,
   "metadata": {},
   "outputs": [],
   "source": [
    "# Bayesian Network"
   ]
  },
  {
   "cell_type": "code",
   "execution_count": null,
   "metadata": {},
   "outputs": [],
   "source": [
    "# Logistic Regression"
   ]
  },
  {
   "cell_type": "code",
   "execution_count": null,
   "metadata": {},
   "outputs": [],
   "source": [
    "# Fair ML"
   ]
  }
 ],
 "metadata": {
  "kernelspec": {
   "display_name": "Python 3",
   "language": "python",
   "name": "python3"
  },
  "language_info": {
   "codemirror_mode": {
    "name": "ipython",
    "version": 3
   },
   "file_extension": ".py",
   "mimetype": "text/x-python",
   "name": "python",
   "nbconvert_exporter": "python",
   "pygments_lexer": "ipython3",
   "version": "3.7.5"
  }
 },
 "nbformat": 4,
 "nbformat_minor": 2
}
